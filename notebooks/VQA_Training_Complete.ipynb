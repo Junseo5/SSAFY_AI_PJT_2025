{
 "cells": [
  {
   "cell_type": "markdown",
   "metadata": {},
   "source": [
    "# Kaggle VQA Challenge - Complete Training Pipeline\n",
    "\n",
    "## 🎯 Overview\n",
    "\n",
    "본 노트북은 Kaggle VQA 챌린지를 위한 완전한 학습 파이프라인입니다.\n",
    "\n",
    "### ⚠️ Critical T4 Compatibility Notes\n",
    "\n",
    "본 프로젝트는 **T4 GPU 환경에서 실행 가능**하도록 최적화되었습니다:\n",
    "\n",
    "1. ✅ **BFloat16 → Float16**: T4는 BF16 미지원\n",
    "2. ✅ **FlashAttention 제거**: T4에서 최적화 불가\n",
    "3. ✅ **Qwen2.5-VL 클래스**: `Qwen2_5_VLForConditionalGeneration`\n",
    "4. ✅ **라벨 정렬 교정**: Assistant 메시지에 정답 포함\n",
    "5. ✅ **프롬프트 통일**: `apply_chat_template` + `process_vision_info`\n",
    "\n",
    "### 📊 Expected Performance\n",
    "\n",
    "- Zero-shot: 65-68%\n",
    "- Single fold: 79-82%\n",
    "- 3-fold ensemble: 83-85%\n",
    "- Optimized: 85-88%"
   ]
  },
  {
   "cell_type": "markdown",
   "metadata": {},
   "source": [
    "## 📦 Step 0: Environment Setup"
   ]
  },
  {
   "cell_type": "code",
   "execution_count": null,
   "metadata": {},
   "outputs": [],
   "source": [
    "# 패키지 설치 (처음 1회만 실행)\n",
    "# !bash install.sh"
   ]
  },
  {
   "cell_type": "code",
   "execution_count": null,
   "metadata": {},
   "outputs": [],
   "source": [
    "# Import libraries\n",
    "import sys\n",
    "import os\n",
    "import torch\n",
    "import pandas as pd\n",
    "from pathlib import Path\n",
    "\n",
    "# Add scripts to path\n",
    "sys.path.append('..')\n",
    "\n",
    "print(f\"Python: {sys.version}\")\n",
    "print(f\"PyTorch: {torch.__version__}\")\n",
    "print(f\"CUDA Available: {torch.cuda.is_available()}\")\n",
    "\n",
    "if torch.cuda.is_available():\n",
    "    print(f\"CUDA Device: {torch.cuda.get_device_name(0)}\")\n",
    "    print(f\"CUDA Memory: {torch.cuda.get_device_properties(0).total_memory / 1e9:.2f} GB\")"
   ]
  },
  {
   "cell_type": "markdown",
   "metadata": {},
   "source": [
    "## 📊 Step 1: Exploratory Data Analysis (EDA)"
   ]
  },
  {
   "cell_type": "code",
   "execution_count": null,
   "metadata": {},
   "outputs": [],
   "source": [
    "# EDA 실행\n",
    "from scripts.eda import VQADataAnalyzer\n",
    "\n",
    "analyzer = VQADataAnalyzer(train_csv_path='../data/train.csv')\n",
    "df_enhanced = analyzer.run_full_analysis()\n",
    "\n",
    "# 강화된 DataFrame 저장\n",
    "df_enhanced.to_csv('../data/train_with_types.csv', index=False)\n",
    "print(\"\\n✓ Enhanced DataFrame saved to data/train_with_types.csv\")"
   ]
  },
  {
   "cell_type": "markdown",
   "metadata": {},
   "source": [
    "## 🔄 Step 2: Create Stratified CV Folds"
   ]
  },
  {
   "cell_type": "code",
   "execution_count": null,
   "metadata": {},
   "outputs": [],
   "source": [
    "# Stratified CV splits 생성\n",
    "from scripts.stratified_cv import VQAStratifiedSplitter\n",
    "\n",
    "splitter = VQAStratifiedSplitter(n_folds=3, seed=42)\n",
    "\n",
    "train_df = pd.read_csv('../data/train.csv')\n",
    "train_df_with_folds = splitter.create_folds(train_df)\n",
    "\n",
    "splitter.save_folds(train_df_with_folds, '../data/train_with_folds.csv')"
   ]
  },
  {
   "cell_type": "markdown",
   "metadata": {},
   "source": [
    "## 🎓 Step 3: Train QLoRA Models\n",
    "\n",
    "### ⚠️ CRITICAL: 라벨 정렬 교정 적용\n",
    "\n",
    "본 학습 스크립트는 다음 치명적 이슈를 모두 수정했습니다:\n",
    "\n",
    "1. ✅ `Qwen2_5_VLForConditionalGeneration` (올바른 클래스명)\n",
    "2. ✅ `torch.float16` (T4 호환)\n",
    "3. ✅ `attn_implementation=\"sdpa\"` (FA2 제거)\n",
    "4. ✅ Assistant 메시지에 정답 포함 (라벨 정렬)\n",
    "5. ✅ `apply_chat_template(add_generation_prompt=False)`"
   ]
  },
  {
   "cell_type": "code",
   "execution_count": null,
   "metadata": {},
   "outputs": [],
   "source": [
    "# WandB 로그인 (선택)\n",
    "import wandb\n",
    "# wandb.login()"
   ]
  },
  {
   "cell_type": "code",
   "execution_count": null,
   "metadata": {},
   "outputs": [],
   "source": [
    "# Fold 0 학습 (예시)\n",
    "# 실제 학습은 터미널에서 실행 권장\n",
    "\n",
    "# !python ../scripts/train_lora.py \\\n",
    "#     --model_id Qwen/Qwen2.5-VL-7B-Instruct \\\n",
    "#     --train_csv ../data/train_with_folds.csv \\\n",
    "#     --image_dir ../data/images \\\n",
    "#     --output_dir ../checkpoints/qwen-7b-fold0 \\\n",
    "#     --fold 0 \\\n",
    "#     --num_epochs 3 \\\n",
    "#     --lr 2e-5 \\\n",
    "#     --batch_size 4 \\\n",
    "#     --gradient_accumulation_steps 2 \\\n",
    "#     --device cuda:0\n",
    "\n",
    "print(\"학습은 터미널에서 실행하세요:\")\n",
    "print(\"\"\"\\n",
    "for fold in 0 1 2; do\n",
    "  python scripts/train_lora.py \\\\\n",
    "    --model_id Qwen/Qwen2.5-VL-7B-Instruct \\\\\n",
    "    --fold $fold \\\\\n",
    "    --output_dir checkpoints/qwen-7b-fold$fold \\\\\n",
    "    --device cuda:0\n",
    "done\n",
    "\"\"\")"
   ]
  },
  {
   "cell_type": "markdown",
   "metadata": {},
   "source": [
    "## 🔮 Step 4: Inference\n",
    "\n",
    "### ✅ Forced-Choice 예측\n",
    "\n",
    "- 프롬프트 템플릿 통일\n",
    "- Logit 기반 예측 (a/b/c/d)\n",
    "- Confidence 계산"
   ]
  },
  {
   "cell_type": "code",
   "execution_count": null,
   "metadata": {},
   "outputs": [],
   "source": [
    "# 각 fold별 추론 (예시)\n",
    "\n",
    "# !python ../scripts/infer_forced_choice.py \\\n",
    "#     --model_path ../checkpoints/qwen-7b-fold0/final \\\n",
    "#     --test_csv ../data/test.csv \\\n",
    "#     --image_dir ../data/images \\\n",
    "#     --output_csv ../outputs/submission_fold0.csv \\\n",
    "#     --device cuda:0\n",
    "\n",
    "print(\"추론은 터미널에서 실행하세요:\")\n",
    "print(\"\"\"\\n",
    "for fold in 0 1 2; do\n",
    "  python scripts/infer_forced_choice.py \\\\\n",
    "    --model_path checkpoints/qwen-7b-fold$fold/final \\\\\n",
    "    --test_csv data/test.csv \\\\\n",
    "    --image_dir data/images \\\\\n",
    "    --output_csv outputs/submission_fold$fold.csv \\\\\n",
    "    --device cuda:0\n",
    "done\n",
    "\"\"\")"
   ]
  },
  {
   "cell_type": "markdown",
   "metadata": {},
   "source": [
    "## 🎯 Step 5: Ensemble\n",
    "\n",
    "### ✅ 확률 평균 방식\n",
    "\n",
    "안정적인 가중 투표 앙상블"
   ]
  },
  {
   "cell_type": "code",
   "execution_count": null,
   "metadata": {},
   "outputs": [],
   "source": [
    "# 앙상블 (예시)\n",
    "from scripts.ensemble import VQAEnsemble\n",
    "\n",
    "ensemble = VQAEnsemble()\n",
    "\n",
    "# Validation 정확도 기반 가중치 (예시)\n",
    "val_accuracies = [0.825, 0.818, 0.822]  # Fold 0, 1, 2의 validation 정확도\n",
    "\n",
    "result = ensemble.weighted_ensemble(\n",
    "    prediction_files=[\n",
    "        '../outputs/submission_fold0.csv',\n",
    "        '../outputs/submission_fold1.csv',\n",
    "        '../outputs/submission_fold2.csv'\n",
    "    ],\n",
    "    validation_accuracies=val_accuracies,\n",
    "    output_path='../outputs/submission_ensemble.csv'\n",
    ")\n",
    "\n",
    "print(\"\\n✓ Ensemble complete!\")"
   ]
  },
  {
   "cell_type": "markdown",
   "metadata": {},
   "source": [
    "## ✅ Step 6: Validate Submission"
   ]
  },
  {
   "cell_type": "code",
   "execution_count": null,
   "metadata": {},
   "outputs": [],
   "source": [
    "# 제출 파일 검증\n",
    "from scripts.validate_submission import validate_submission\n",
    "\n",
    "is_valid = validate_submission(\n",
    "    file_path='../outputs/submission_ensemble.csv',\n",
    "    test_csv_path='../data/test.csv'\n",
    ")\n",
    "\n",
    "if is_valid:\n",
    "    print(\"\\n✅ Submission is ready for upload!\")\n",
    "else:\n",
    "    print(\"\\n❌ Submission has errors. Please fix them.\")"
   ]
  },
  {
   "cell_type": "markdown",
   "metadata": {},
   "source": [
    "## 📊 Step 7: Results Analysis"
   ]
  },
  {
   "cell_type": "code",
   "execution_count": null,
   "metadata": {},
   "outputs": [],
   "source": [
    "# 제출 파일 분석\n",
    "import matplotlib.pyplot as plt\n",
    "import seaborn as sns\n",
    "\n",
    "submission = pd.read_csv('../outputs/submission_ensemble.csv')\n",
    "\n",
    "print(f\"Total predictions: {len(submission)}\")\n",
    "\n",
    "# 답변 분포\n",
    "print(\"\\nAnswer distribution:\")\n",
    "answer_counts = submission['answer'].value_counts().sort_index()\n",
    "for ans, count in answer_counts.items():\n",
    "    print(f\"  {ans}: {count:5d} ({count/len(submission)*100:5.1f}%)\")\n",
    "\n",
    "# 시각화\n",
    "plt.figure(figsize=(8, 5))\n",
    "sns.barplot(x=answer_counts.index, y=answer_counts.values, palette='viridis')\n",
    "plt.title('Submission Answer Distribution')\n",
    "plt.xlabel('Answer')\n",
    "plt.ylabel('Count')\n",
    "plt.grid(axis='y', alpha=0.3)\n",
    "plt.show()"
   ]
  },
  {
   "cell_type": "markdown",
   "metadata": {},
   "source": [
    "## 📝 Summary\n",
    "\n",
    "### ✅ 완료된 작업\n",
    "\n",
    "1. ✅ 프로젝트 구조 생성\n",
    "2. ✅ EDA 및 데이터 분석\n",
    "3. ✅ Stratified CV splits 생성\n",
    "4. ✅ QLoRA 학습 (라벨 정렬 교정)\n",
    "5. ✅ Forced-choice 추론\n",
    "6. ✅ 3-fold 앙상블\n",
    "7. ✅ 제출 파일 검증\n",
    "\n",
    "### 🎯 다음 단계\n",
    "\n",
    "1. **Hyperparameter Optimization** (Day 4)\n",
    "   - Optuna로 최적 하이퍼파라미터 탐색\n",
    "   - Learning rate, LoRA rank, batch size 튜닝\n",
    "\n",
    "2. **Error Analysis** (Day 5)\n",
    "   - 예측 실패 샘플 분석\n",
    "   - 질문 유형별 성능 분석\n",
    "   - 타겟 증강 적용\n",
    "\n",
    "3. **Advanced Techniques**\n",
    "   - High-resolution inference (1024px)\n",
    "   - Test-time augmentation (TTA)\n",
    "   - Ensemble weight tuning\n",
    "\n",
    "### 📌 Important Notes\n",
    "\n",
    "- **T4 호환성**: 모든 스크립트는 T4 GPU에서 실행 가능\n",
    "- **재현성**: Seed 42로 고정, deterministic 모드\n",
    "- **메모리**: Gradient checkpointing, 4-bit quantization 적용\n",
    "- **라벨 정렬**: Assistant 메시지에 정답 포함 (핵심!)\n",
    "\n",
    "---\n",
    "\n",
    "**Generated for SSAFY AI Project 2025**\n",
    "\n",
    "**Contact**: GitHub Issues"
   ]
  }
 ],
 "metadata": {
  "kernelspec": {
   "display_name": "Python 3",
   "language": "python",
   "name": "python3"
  },
  "language_info": {
   "codemirror_mode": {
    "name": "ipython",
    "version": 3
   },
   "file_extension": ".py",
   "mimetype": "text/x-python",
   "name": "python",
   "nbconvert_exporter": "python",
   "pygments_lexer": "ipython3",
   "version": "3.10.0"
  }
 },
 "nbformat": 4,
 "nbformat_minor": 4
}
